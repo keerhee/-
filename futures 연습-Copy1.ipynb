{
 "cells": [
  {
   "cell_type": "code",
   "execution_count": 1,
   "metadata": {},
   "outputs": [],
   "source": [
    "# -*- coding: utf-8 -*-"
   ]
  },
  {
   "cell_type": "code",
   "execution_count": 1,
   "metadata": {},
   "outputs": [],
   "source": [
    "import pandas as pd\n",
    "import numpy as np"
   ]
  },
  {
   "cell_type": "code",
   "execution_count": 2,
   "metadata": {},
   "outputs": [],
   "source": [
    "# time 컬럼은 문자로 읽기 위해  dtype={'time':object} 사용\n",
    "df = pd.read_csv( '2020-10-30_futures.csv', dtype={'time':object} )"
   ]
  },
  {
   "cell_type": "code",
   "execution_count": 3,
   "metadata": {},
   "outputs": [],
   "source": [
    "# Vol Bar를 만들기 위해 새 df 만듬\n",
    "df1 = df.loc[:, ['time','price','type','qty']]"
   ]
  },
  {
   "cell_type": "code",
   "execution_count": 4,
   "metadata": {},
   "outputs": [],
   "source": [
    "# time 컬럼을 hhmmss에서 hhmm으로 변경\n",
    "df1['time'] = df1['time'].map( lambda x : x[-6:-2] )"
   ]
  },
  {
   "cell_type": "code",
   "execution_count": 5,
   "metadata": {
    "scrolled": true
   },
   "outputs": [],
   "source": [
    "# qty(체결수량)이 0인 데이터 삭제\n",
    "df1.drop( df1.index[df1['qty'] == 0], inplace = True )"
   ]
  },
  {
   "cell_type": "code",
   "execution_count": 6,
   "metadata": {},
   "outputs": [
    {
     "data": {
      "text/html": [
       "<div>\n",
       "<style scoped>\n",
       "    .dataframe tbody tr th:only-of-type {\n",
       "        vertical-align: middle;\n",
       "    }\n",
       "\n",
       "    .dataframe tbody tr th {\n",
       "        vertical-align: top;\n",
       "    }\n",
       "\n",
       "    .dataframe thead th {\n",
       "        text-align: right;\n",
       "    }\n",
       "</style>\n",
       "<table border=\"1\" class=\"dataframe\">\n",
       "  <thead>\n",
       "    <tr style=\"text-align: right;\">\n",
       "      <th></th>\n",
       "      <th>time</th>\n",
       "      <th>price</th>\n",
       "      <th>type</th>\n",
       "      <th>qty</th>\n",
       "      <th>BUY</th>\n",
       "      <th>SELL</th>\n",
       "    </tr>\n",
       "  </thead>\n",
       "  <tbody>\n",
       "    <tr>\n",
       "      <th>13829</th>\n",
       "      <td>1529</td>\n",
       "      <td>301.45</td>\n",
       "      <td>+</td>\n",
       "      <td>1</td>\n",
       "      <td>1</td>\n",
       "      <td>0</td>\n",
       "    </tr>\n",
       "    <tr>\n",
       "      <th>13830</th>\n",
       "      <td>1529</td>\n",
       "      <td>301.45</td>\n",
       "      <td>+</td>\n",
       "      <td>6</td>\n",
       "      <td>6</td>\n",
       "      <td>0</td>\n",
       "    </tr>\n",
       "    <tr>\n",
       "      <th>13831</th>\n",
       "      <td>1529</td>\n",
       "      <td>301.40</td>\n",
       "      <td>-</td>\n",
       "      <td>8</td>\n",
       "      <td>0</td>\n",
       "      <td>8</td>\n",
       "    </tr>\n",
       "    <tr>\n",
       "      <th>13832</th>\n",
       "      <td>1529</td>\n",
       "      <td>301.35</td>\n",
       "      <td>+</td>\n",
       "      <td>1</td>\n",
       "      <td>1</td>\n",
       "      <td>0</td>\n",
       "    </tr>\n",
       "    <tr>\n",
       "      <th>13833</th>\n",
       "      <td>1529</td>\n",
       "      <td>301.30</td>\n",
       "      <td>-</td>\n",
       "      <td>3</td>\n",
       "      <td>0</td>\n",
       "      <td>3</td>\n",
       "    </tr>\n",
       "  </tbody>\n",
       "</table>\n",
       "</div>"
      ],
      "text/plain": [
       "       time   price type  qty  BUY  SELL\n",
       "13829  1529  301.45    +    1    1     0\n",
       "13830  1529  301.45    +    6    6     0\n",
       "13831  1529  301.40    -    8    0     8\n",
       "13832  1529  301.35    +    1    1     0\n",
       "13833  1529  301.30    -    3    0     3"
      ]
     },
     "execution_count": 6,
     "metadata": {},
     "output_type": "execute_result"
    }
   ],
   "source": [
    "df1['BUY'] = (df1['type']=='+') * df1['qty']\n",
    "df1['SELL'] = (df1['type']=='-') * df1['qty']\n",
    "df1.tail(5)"
   ]
  },
  {
   "cell_type": "code",
   "execution_count": 7,
   "metadata": {},
   "outputs": [
    {
     "data": {
      "text/html": [
       "<div>\n",
       "<style scoped>\n",
       "    .dataframe tbody tr th:only-of-type {\n",
       "        vertical-align: middle;\n",
       "    }\n",
       "\n",
       "    .dataframe tbody tr th {\n",
       "        vertical-align: top;\n",
       "    }\n",
       "\n",
       "    .dataframe thead th {\n",
       "        text-align: right;\n",
       "    }\n",
       "</style>\n",
       "<table border=\"1\" class=\"dataframe\">\n",
       "  <thead>\n",
       "    <tr style=\"text-align: right;\">\n",
       "      <th></th>\n",
       "      <th>time</th>\n",
       "      <th>price</th>\n",
       "      <th>type</th>\n",
       "      <th>qty</th>\n",
       "      <th>BUY</th>\n",
       "      <th>SELL</th>\n",
       "    </tr>\n",
       "  </thead>\n",
       "  <tbody>\n",
       "    <tr>\n",
       "      <th>13829</th>\n",
       "      <td>1529</td>\n",
       "      <td>301.45</td>\n",
       "      <td>+</td>\n",
       "      <td>1</td>\n",
       "      <td>1</td>\n",
       "      <td>0</td>\n",
       "    </tr>\n",
       "    <tr>\n",
       "      <th>13830</th>\n",
       "      <td>1529</td>\n",
       "      <td>301.45</td>\n",
       "      <td>+</td>\n",
       "      <td>6</td>\n",
       "      <td>6</td>\n",
       "      <td>0</td>\n",
       "    </tr>\n",
       "    <tr>\n",
       "      <th>13831</th>\n",
       "      <td>1529</td>\n",
       "      <td>301.40</td>\n",
       "      <td>-</td>\n",
       "      <td>8</td>\n",
       "      <td>0</td>\n",
       "      <td>8</td>\n",
       "    </tr>\n",
       "    <tr>\n",
       "      <th>13832</th>\n",
       "      <td>1529</td>\n",
       "      <td>301.35</td>\n",
       "      <td>+</td>\n",
       "      <td>1</td>\n",
       "      <td>1</td>\n",
       "      <td>0</td>\n",
       "    </tr>\n",
       "    <tr>\n",
       "      <th>13833</th>\n",
       "      <td>1529</td>\n",
       "      <td>301.30</td>\n",
       "      <td>-</td>\n",
       "      <td>3</td>\n",
       "      <td>0</td>\n",
       "      <td>3</td>\n",
       "    </tr>\n",
       "  </tbody>\n",
       "</table>\n",
       "</div>"
      ],
      "text/plain": [
       "       time   price type  qty  BUY  SELL\n",
       "13829  1529  301.45    +    1    1     0\n",
       "13830  1529  301.45    +    6    6     0\n",
       "13831  1529  301.40    -    8    0     8\n",
       "13832  1529  301.35    +    1    1     0\n",
       "13833  1529  301.30    -    3    0     3"
      ]
     },
     "execution_count": 7,
     "metadata": {},
     "output_type": "execute_result"
    }
   ],
   "source": [
    "df1.tail(5)"
   ]
  },
  {
   "cell_type": "code",
   "execution_count": 31,
   "metadata": {},
   "outputs": [],
   "source": [
    "df_volBar = pd.DataFrame(columns=['tm','op','hi','lo','cl','vol','b','s'])\n",
    "\n",
    "sumOf=0\n",
    "sumOfBid=0\n",
    "sumOfAsk=0\n",
    "t0 = df1.index[0]\n",
    "ix=0\n",
    "for i in df1.index:\n",
    "    sumOf += df1['qty'].loc[i]\n",
    "    sumOfBid += df1['BUY'].loc[i]\n",
    "    sumOfAsk += df1['SELL'].loc[i]\n",
    "    if sumOf>100:\n",
    "        tme = df1['time'].loc[i]\n",
    "        opn = df1['price'].loc[t0]\n",
    "        hig = max(df1['price'].loc[t0:i])\n",
    "        low = min(df1['price'].loc[t0:i])\n",
    "        clz = df1['price'].loc[i]\n",
    "        qty = df1['qty'].loc[i]\n",
    "        bid = df1['BUY'].loc[i]\n",
    "        ask = df1['SELL'].loc[i]\n",
    "#         print(df1['time'].loc[i], op, hi, lo, cl, bd, ak)\n",
    "        df_volBar.loc[ix] = [tme, opn, hig, low, clz, sumOf, sumOfBid, sumOfAsk]\n",
    "        t0 = i\n",
    "        ix+=1\n",
    "        sumOf = 0    \n",
    "        sumOfBid = 0\n",
    "        sumOfAsk = 0"
   ]
  },
  {
   "cell_type": "code",
   "execution_count": 32,
   "metadata": {},
   "outputs": [
    {
     "data": {
      "text/html": [
       "<div>\n",
       "<style scoped>\n",
       "    .dataframe tbody tr th:only-of-type {\n",
       "        vertical-align: middle;\n",
       "    }\n",
       "\n",
       "    .dataframe tbody tr th {\n",
       "        vertical-align: top;\n",
       "    }\n",
       "\n",
       "    .dataframe thead th {\n",
       "        text-align: right;\n",
       "    }\n",
       "</style>\n",
       "<table border=\"1\" class=\"dataframe\">\n",
       "  <thead>\n",
       "    <tr style=\"text-align: right;\">\n",
       "      <th></th>\n",
       "      <th>tm</th>\n",
       "      <th>op</th>\n",
       "      <th>hi</th>\n",
       "      <th>lo</th>\n",
       "      <th>cl</th>\n",
       "      <th>vol</th>\n",
       "      <th>b</th>\n",
       "      <th>s</th>\n",
       "    </tr>\n",
       "  </thead>\n",
       "  <tbody>\n",
       "    <tr>\n",
       "      <th>413</th>\n",
       "      <td>1527</td>\n",
       "      <td>301.80</td>\n",
       "      <td>301.95</td>\n",
       "      <td>301.80</td>\n",
       "      <td>301.95</td>\n",
       "      <td>102</td>\n",
       "      <td>51</td>\n",
       "      <td>51</td>\n",
       "    </tr>\n",
       "    <tr>\n",
       "      <th>414</th>\n",
       "      <td>1527</td>\n",
       "      <td>301.95</td>\n",
       "      <td>301.95</td>\n",
       "      <td>301.80</td>\n",
       "      <td>301.85</td>\n",
       "      <td>133</td>\n",
       "      <td>83</td>\n",
       "      <td>27</td>\n",
       "    </tr>\n",
       "    <tr>\n",
       "      <th>415</th>\n",
       "      <td>1528</td>\n",
       "      <td>301.85</td>\n",
       "      <td>301.85</td>\n",
       "      <td>301.75</td>\n",
       "      <td>301.85</td>\n",
       "      <td>101</td>\n",
       "      <td>77</td>\n",
       "      <td>24</td>\n",
       "    </tr>\n",
       "    <tr>\n",
       "      <th>416</th>\n",
       "      <td>1528</td>\n",
       "      <td>301.85</td>\n",
       "      <td>301.85</td>\n",
       "      <td>301.70</td>\n",
       "      <td>301.70</td>\n",
       "      <td>101</td>\n",
       "      <td>32</td>\n",
       "      <td>69</td>\n",
       "    </tr>\n",
       "    <tr>\n",
       "      <th>417</th>\n",
       "      <td>1529</td>\n",
       "      <td>301.70</td>\n",
       "      <td>301.75</td>\n",
       "      <td>301.60</td>\n",
       "      <td>301.60</td>\n",
       "      <td>102</td>\n",
       "      <td>17</td>\n",
       "      <td>85</td>\n",
       "    </tr>\n",
       "  </tbody>\n",
       "</table>\n",
       "</div>"
      ],
      "text/plain": [
       "       tm      op      hi      lo      cl  vol   b   s\n",
       "413  1527  301.80  301.95  301.80  301.95  102  51  51\n",
       "414  1527  301.95  301.95  301.80  301.85  133  83  27\n",
       "415  1528  301.85  301.85  301.75  301.85  101  77  24\n",
       "416  1528  301.85  301.85  301.70  301.70  101  32  69\n",
       "417  1529  301.70  301.75  301.60  301.60  102  17  85"
      ]
     },
     "execution_count": 32,
     "metadata": {},
     "output_type": "execute_result"
    }
   ],
   "source": [
    "df_volBar.tail(5)"
   ]
  },
  {
   "cell_type": "markdown",
   "metadata": {},
   "source": [
    "# True PIN"
   ]
  },
  {
   "cell_type": "code",
   "execution_count": 34,
   "metadata": {},
   "outputs": [],
   "source": [
    "tpin=abs(df_volBar['b']-df_volBar['s'])/vol"
   ]
  },
  {
   "cell_type": "code",
   "execution_count": 36,
   "metadata": {},
   "outputs": [],
   "source": [
    "df_volBar['TPIN']=tpin"
   ]
  },
  {
   "cell_type": "code",
   "execution_count": 38,
   "metadata": {},
   "outputs": [
    {
     "data": {
      "text/plain": [
       "<AxesSubplot:>"
      ]
     },
     "execution_count": 38,
     "metadata": {},
     "output_type": "execute_result"
    },
    {
     "data": {
      "image/png": "[encoded data removed]",
      "text/plain": [
       "<Figure size 432x288 with 1 Axes>"
      ]
     },
     "metadata": {
      "needs_background": "light"
     },
     "output_type": "display_data"
    }
   ],
   "source": [
    "tpin.plot()"
   ]
  },
  {
   "cell_type": "code",
   "execution_count": 41,
   "metadata": {},
   "outputs": [
    {
     "data": {
      "text/plain": [
       "<AxesSubplot:>"
      ]
     },
     "execution_count": 41,
     "metadata": {},
     "output_type": "execute_result"
    },
    {
     "data": {
      "image/png": "[encoded data removed]",
      "text/plain": [
       "<Figure size 432x288 with 1 Axes>"
      ]
     },
     "metadata": {
      "needs_background": "light"
     },
     "output_type": "display_data"
    }
   ],
   "source": [
    "tpin.rolling(20).mean().plot()"
   ]
  },
  {
   "cell_type": "markdown",
   "metadata": {},
   "source": [
    "# VPIN"
   ]
  },
  {
   "cell_type": "code",
   "execution_count": 42,
   "metadata": {},
   "outputs": [],
   "source": [
    "from math import *\n",
    "import math\n",
    "import numpy as np\n",
    "from scipy.stats import *\n",
    "\n",
    "def std(list):\n",
    "    element = 0 \n",
    "    for item in list:\n",
    "        element = element + float((item**2)/( len(list)))\n",
    "    return math.sqrt(element)\n",
    "\n",
    "def phi(x):\n",
    "    #'Cumulative distribution function for the standard normal distribution'\n",
    "    return (1.0 + erf(x / sqrt(2.0))) / 2.0\n",
    "\n",
    "def calx(v_i,delta_p_i,sigma):\n",
    "    x = v_i * phi(delta_p_i/sigma)\n",
    "    return x"
   ]
  },
  {
   "cell_type": "code",
   "execution_count": 43,
   "metadata": {},
   "outputs": [],
   "source": [
    "df_volBar['chg']=df_volBar['cl']-df_volBar['op']"
   ]
  },
  {
   "cell_type": "code",
   "execution_count": 44,
   "metadata": {},
   "outputs": [],
   "source": [
    "high = df_volBar[\"hi\"].tolist()\n",
    "low =  df_volBar[\"lo\"].tolist()\n",
    "vol =  df_volBar[\"vol\"].tolist()\n",
    "chg = df_volBar[\"chg\"].tolist()\n",
    "#date = df[\"date\"].tolist()\n",
    "time =  df_volBar[\"tm\"].tolist()\n",
    "sigma = df_volBar['chg'].rolling(20).std() #calculate standard deviation\n",
    "totalvol = sum(vol)"
   ]
  },
  {
   "cell_type": "code",
   "execution_count": 45,
   "metadata": {},
   "outputs": [],
   "source": [
    "z=df_volBar['chg'].apply(lambda x: norm.cdf(x/sigma))"
   ]
  },
  {
   "cell_type": "code",
   "execution_count": 46,
   "metadata": {},
   "outputs": [
    {
     "name": "stderr",
     "output_type": "stream",
     "text": [
      "C:\\ProgramData\\Anaconda3\\lib\\site-packages\\scipy\\stats\\_distn_infrastructure.py:903: RuntimeWarning: invalid value encountered in greater\n",
      "  return (a < x) & (x < b)\n",
      "C:\\ProgramData\\Anaconda3\\lib\\site-packages\\scipy\\stats\\_distn_infrastructure.py:903: RuntimeWarning: invalid value encountered in less\n",
      "  return (a < x) & (x < b)\n",
      "C:\\ProgramData\\Anaconda3\\lib\\site-packages\\scipy\\stats\\_distn_infrastructure.py:1827: RuntimeWarning: invalid value encountered in greater_equal\n",
      "  cond2 = (x >= np.asarray(_b)) & cond0\n"
     ]
    }
   ],
   "source": [
    "chg = df_volBar[\"chg\"]\n",
    "chg_mean = df_volBar[\"chg\"].mean()\n",
    "z=norm.cdf((chg-chg_mean)/sigma)"
   ]
  },
  {
   "cell_type": "code",
   "execution_count": 47,
   "metadata": {},
   "outputs": [
    {
     "data": {
      "text/html": [
       "<div>\n",
       "<style scoped>\n",
       "    .dataframe tbody tr th:only-of-type {\n",
       "        vertical-align: middle;\n",
       "    }\n",
       "\n",
       "    .dataframe tbody tr th {\n",
       "        vertical-align: top;\n",
       "    }\n",
       "\n",
       "    .dataframe thead th {\n",
       "        text-align: right;\n",
       "    }\n",
       "</style>\n",
       "<table border=\"1\" class=\"dataframe\">\n",
       "  <thead>\n",
       "    <tr style=\"text-align: right;\">\n",
       "      <th></th>\n",
       "      <th>0</th>\n",
       "    </tr>\n",
       "  </thead>\n",
       "  <tbody>\n",
       "    <tr>\n",
       "      <th>count</th>\n",
       "      <td>399.000000</td>\n",
       "    </tr>\n",
       "    <tr>\n",
       "      <th>mean</th>\n",
       "      <td>0.503164</td>\n",
       "    </tr>\n",
       "    <tr>\n",
       "      <th>std</th>\n",
       "      <td>0.288873</td>\n",
       "    </tr>\n",
       "    <tr>\n",
       "      <th>min</th>\n",
       "      <td>0.001961</td>\n",
       "    </tr>\n",
       "    <tr>\n",
       "      <th>25%</th>\n",
       "      <td>0.249925</td>\n",
       "    </tr>\n",
       "    <tr>\n",
       "      <th>50%</th>\n",
       "      <td>0.538387</td>\n",
       "    </tr>\n",
       "    <tr>\n",
       "      <th>75%</th>\n",
       "      <td>0.771974</td>\n",
       "    </tr>\n",
       "    <tr>\n",
       "      <th>max</th>\n",
       "      <td>0.997370</td>\n",
       "    </tr>\n",
       "  </tbody>\n",
       "</table>\n",
       "</div>"
      ],
      "text/plain": [
       "                0\n",
       "count  399.000000\n",
       "mean     0.503164\n",
       "std      0.288873\n",
       "min      0.001961\n",
       "25%      0.249925\n",
       "50%      0.538387\n",
       "75%      0.771974\n",
       "max      0.997370"
      ]
     },
     "execution_count": 47,
     "metadata": {},
     "output_type": "execute_result"
    }
   ],
   "source": [
    "pd.DataFrame(z).describe()"
   ]
  },
  {
   "cell_type": "code",
   "execution_count": 48,
   "metadata": {},
   "outputs": [],
   "source": [
    "buy=vol*z\n",
    "sell=vol*(1-z)\n",
    "vpin=abs(buy-sell)/vol"
   ]
  },
  {
   "cell_type": "code",
   "execution_count": 49,
   "metadata": {},
   "outputs": [
    {
     "data": {
      "text/plain": [
       "<AxesSubplot:>"
      ]
     },
     "execution_count": 49,
     "metadata": {},
     "output_type": "execute_result"
    },
    {
     "data": {
      "image/png": "[encoded data removed]",
      "text/plain": [
       "<Figure size 720x288 with 1 Axes>"
      ]
     },
     "metadata": {
      "needs_background": "light"
     },
     "output_type": "display_data"
    }
   ],
   "source": [
    "pd.DataFrame(vpin).plot(figsize=(10,4))"
   ]
  },
  {
   "cell_type": "code",
   "execution_count": 58,
   "metadata": {},
   "outputs": [
    {
     "data": {
      "text/plain": [
       "<AxesSubplot:>"
      ]
     },
     "execution_count": 58,
     "metadata": {},
     "output_type": "execute_result"
    },
    {
     "data": {
      "image/png": "[encoded data removed]",
      "text/plain": [
       "<Figure size 720x288 with 1 Axes>"
      ]
     },
     "metadata": {
      "needs_background": "light"
     },
     "output_type": "display_data"
    }
   ],
   "source": [
    "pd.DataFrame(vpin).rolling(20).mean().plot(figsize=(10,4))\n",
    "tpin.rolling(40).mean().plot()\n"
   ]
  },
  {
   "cell_type": "code",
   "execution_count": 61,
   "metadata": {},
   "outputs": [
    {
     "data": {
      "text/plain": [
       "<AxesSubplot:>"
      ]
     },
     "execution_count": 61,
     "metadata": {},
     "output_type": "execute_result"
    },
    {
     "data": {
      "image/png": "[encoded data removed]",
      "text/plain": [
       "<Figure size 720x288 with 1 Axes>"
      ]
     },
     "metadata": {
      "needs_background": "light"
     },
     "output_type": "display_data"
    }
   ],
   "source": [
    "df_volBar['cl'].plot(figsize=(10,4))"
   ]
  },
  {
   "cell_type": "code",
   "execution_count": null,
   "metadata": {},
   "outputs": [],
   "source": []
  },
  {
   "cell_type": "markdown",
   "metadata": {},
   "source": [
    "# Time BAR"
   ]
  },
  {
   "cell_type": "code",
   "execution_count": 26,
   "metadata": {},
   "outputs": [],
   "source": [
    "filter=list(set(df1['time']))\n",
    "\n",
    "df_tmBar=pd.DataFrame(columns=['tm','op','hi','lo','cl','vol','b','s'])\n",
    "i=0\n",
    "for f in filter:\n",
    "    filtd=df1[df1['time'].str.contains(f)]\n",
    "    op=sum(filtd['price'][:1])\n",
    "    hi=max(filtd['price'])\n",
    "    lo=min(filtd['price'])\n",
    "    cl=sum(filtd['price'][-1:])\n",
    "    vl=sum(filtd['qty'])\n",
    "    b=sum(filtd['BUY'])\n",
    "    s=sum(filtd['SELL'])\n",
    "    df_tmBar.loc[i]=[f,op,hi,lo,cl,vl,b,s]\n",
    "    i=i+1"
   ]
  },
  {
   "cell_type": "code",
   "execution_count": 27,
   "metadata": {},
   "outputs": [
    {
     "data": {
      "text/html": [
       "<div>\n",
       "<style scoped>\n",
       "    .dataframe tbody tr th:only-of-type {\n",
       "        vertical-align: middle;\n",
       "    }\n",
       "\n",
       "    .dataframe tbody tr th {\n",
       "        vertical-align: top;\n",
       "    }\n",
       "\n",
       "    .dataframe thead th {\n",
       "        text-align: right;\n",
       "    }\n",
       "</style>\n",
       "<table border=\"1\" class=\"dataframe\">\n",
       "  <thead>\n",
       "    <tr style=\"text-align: right;\">\n",
       "      <th></th>\n",
       "      <th>tm</th>\n",
       "      <th>op</th>\n",
       "      <th>hi</th>\n",
       "      <th>lo</th>\n",
       "      <th>cl</th>\n",
       "      <th>vol</th>\n",
       "      <th>b</th>\n",
       "      <th>s</th>\n",
       "    </tr>\n",
       "  </thead>\n",
       "  <tbody>\n",
       "    <tr>\n",
       "      <th>373</th>\n",
       "      <td>1257</td>\n",
       "      <td>304.95</td>\n",
       "      <td>305.05</td>\n",
       "      <td>304.95</td>\n",
       "      <td>304.95</td>\n",
       "      <td>51</td>\n",
       "      <td>22</td>\n",
       "      <td>22</td>\n",
       "    </tr>\n",
       "    <tr>\n",
       "      <th>374</th>\n",
       "      <td>1249</td>\n",
       "      <td>305.10</td>\n",
       "      <td>305.15</td>\n",
       "      <td>305.00</td>\n",
       "      <td>305.00</td>\n",
       "      <td>100</td>\n",
       "      <td>66</td>\n",
       "      <td>34</td>\n",
       "    </tr>\n",
       "    <tr>\n",
       "      <th>375</th>\n",
       "      <td>0936</td>\n",
       "      <td>307.00</td>\n",
       "      <td>307.40</td>\n",
       "      <td>307.00</td>\n",
       "      <td>307.35</td>\n",
       "      <td>78</td>\n",
       "      <td>60</td>\n",
       "      <td>18</td>\n",
       "    </tr>\n",
       "    <tr>\n",
       "      <th>376</th>\n",
       "      <td>1138</td>\n",
       "      <td>306.15</td>\n",
       "      <td>306.25</td>\n",
       "      <td>306.05</td>\n",
       "      <td>306.05</td>\n",
       "      <td>128</td>\n",
       "      <td>36</td>\n",
       "      <td>92</td>\n",
       "    </tr>\n",
       "    <tr>\n",
       "      <th>377</th>\n",
       "      <td>0918</td>\n",
       "      <td>307.65</td>\n",
       "      <td>307.70</td>\n",
       "      <td>307.55</td>\n",
       "      <td>307.70</td>\n",
       "      <td>127</td>\n",
       "      <td>69</td>\n",
       "      <td>58</td>\n",
       "    </tr>\n",
       "  </tbody>\n",
       "</table>\n",
       "</div>"
      ],
      "text/plain": [
       "       tm      op      hi      lo      cl  vol   b   s\n",
       "373  1257  304.95  305.05  304.95  304.95   51  22  22\n",
       "374  1249  305.10  305.15  305.00  305.00  100  66  34\n",
       "375  0936  307.00  307.40  307.00  307.35   78  60  18\n",
       "376  1138  306.15  306.25  306.05  306.05  128  36  92\n",
       "377  0918  307.65  307.70  307.55  307.70  127  69  58"
      ]
     },
     "execution_count": 27,
     "metadata": {},
     "output_type": "execute_result"
    }
   ],
   "source": [
    "df_tmBar.tail(5)"
   ]
  },
  {
   "cell_type": "code",
   "execution_count": null,
   "metadata": {},
   "outputs": [],
   "source": []
  },
  {
   "cell_type": "code",
   "execution_count": null,
   "metadata": {},
   "outputs": [],
   "source": []
  },
  {
   "cell_type": "markdown",
   "metadata": {},
   "source": [
    "# EMA"
   ]
  },
  {
   "cell_type": "code",
   "execution_count": 63,
   "metadata": {},
   "outputs": [],
   "source": [
    "def EMA(data, n):\n",
    "    ma = []\n",
    "    \n",
    "    # data 첫 부분에 na 가 있으면 skip한다\n",
    "    x = 0\n",
    "    while True:\n",
    "        if math.isnan(data[x]):\n",
    "            ma.append(data[x])\n",
    "        else:\n",
    "            break;\n",
    "        x += 1\n",
    "        \n",
    "    # x ~ n - 1 기간까지는 na를 assign 한다\n",
    "    for i in range(x, x + n - 1):\n",
    "        ma.append(np.nan)\n",
    "    \n",
    "    # x + n - 1 기간은 x ~ x + n - 1 까지의 평균을 적용한다\n",
    "    sma = np.mean(data[x:(x + n)])\n",
    "    ma.append(sma)\n",
    "    \n",
    "    # x + n 기간 부터는 EMA를 적용한다\n",
    "    k = 2 / (n + 1)\n",
    "    \n",
    "    for i in range(x + n, len(data)):\n",
    "        #print(i, data[i])\n",
    "        ma.append(ma[-1] + k * (data[i] - ma[-1]))\n",
    "    \n",
    "    return pd.Series(ma, index=data.index)"
   ]
  },
  {
   "cell_type": "code",
   "execution_count": 69,
   "metadata": {},
   "outputs": [],
   "source": [
    "df_tmBar['EMA']= EMA(df_tmBar['cl'], 5)"
   ]
  },
  {
   "cell_type": "code",
   "execution_count": 71,
   "metadata": {},
   "outputs": [
    {
     "data": {
      "text/html": [
       "<div>\n",
       "<style scoped>\n",
       "    .dataframe tbody tr th:only-of-type {\n",
       "        vertical-align: middle;\n",
       "    }\n",
       "\n",
       "    .dataframe tbody tr th {\n",
       "        vertical-align: top;\n",
       "    }\n",
       "\n",
       "    .dataframe thead th {\n",
       "        text-align: right;\n",
       "    }\n",
       "</style>\n",
       "<table border=\"1\" class=\"dataframe\">\n",
       "  <thead>\n",
       "    <tr style=\"text-align: right;\">\n",
       "      <th></th>\n",
       "      <th>tm</th>\n",
       "      <th>op</th>\n",
       "      <th>hi</th>\n",
       "      <th>lo</th>\n",
       "      <th>cl</th>\n",
       "      <th>vol</th>\n",
       "      <th>b</th>\n",
       "      <th>s</th>\n",
       "      <th>EMA</th>\n",
       "    </tr>\n",
       "  </thead>\n",
       "  <tbody>\n",
       "    <tr>\n",
       "      <th>373</th>\n",
       "      <td>1257</td>\n",
       "      <td>304.95</td>\n",
       "      <td>305.05</td>\n",
       "      <td>304.95</td>\n",
       "      <td>304.95</td>\n",
       "      <td>51</td>\n",
       "      <td>22</td>\n",
       "      <td>22</td>\n",
       "      <td>305.690490</td>\n",
       "    </tr>\n",
       "    <tr>\n",
       "      <th>374</th>\n",
       "      <td>1249</td>\n",
       "      <td>305.10</td>\n",
       "      <td>305.15</td>\n",
       "      <td>305.00</td>\n",
       "      <td>305.00</td>\n",
       "      <td>100</td>\n",
       "      <td>66</td>\n",
       "      <td>34</td>\n",
       "      <td>305.460327</td>\n",
       "    </tr>\n",
       "    <tr>\n",
       "      <th>375</th>\n",
       "      <td>0936</td>\n",
       "      <td>307.00</td>\n",
       "      <td>307.40</td>\n",
       "      <td>307.00</td>\n",
       "      <td>307.35</td>\n",
       "      <td>78</td>\n",
       "      <td>60</td>\n",
       "      <td>18</td>\n",
       "      <td>306.090218</td>\n",
       "    </tr>\n",
       "    <tr>\n",
       "      <th>376</th>\n",
       "      <td>1138</td>\n",
       "      <td>306.15</td>\n",
       "      <td>306.25</td>\n",
       "      <td>306.05</td>\n",
       "      <td>306.05</td>\n",
       "      <td>128</td>\n",
       "      <td>36</td>\n",
       "      <td>92</td>\n",
       "      <td>306.076812</td>\n",
       "    </tr>\n",
       "    <tr>\n",
       "      <th>377</th>\n",
       "      <td>0918</td>\n",
       "      <td>307.65</td>\n",
       "      <td>307.70</td>\n",
       "      <td>307.55</td>\n",
       "      <td>307.70</td>\n",
       "      <td>127</td>\n",
       "      <td>69</td>\n",
       "      <td>58</td>\n",
       "      <td>306.617875</td>\n",
       "    </tr>\n",
       "  </tbody>\n",
       "</table>\n",
       "</div>"
      ],
      "text/plain": [
       "       tm      op      hi      lo      cl  vol   b   s         EMA\n",
       "373  1257  304.95  305.05  304.95  304.95   51  22  22  305.690490\n",
       "374  1249  305.10  305.15  305.00  305.00  100  66  34  305.460327\n",
       "375  0936  307.00  307.40  307.00  307.35   78  60  18  306.090218\n",
       "376  1138  306.15  306.25  306.05  306.05  128  36  92  306.076812\n",
       "377  0918  307.65  307.70  307.55  307.70  127  69  58  306.617875"
      ]
     },
     "execution_count": 71,
     "metadata": {},
     "output_type": "execute_result"
    }
   ],
   "source": [
    "df_tmBar.tail()"
   ]
  },
  {
   "cell_type": "code",
   "execution_count": 72,
   "metadata": {},
   "outputs": [
    {
     "data": {
      "text/plain": [
       "0             NaN\n",
       "1             NaN\n",
       "2             NaN\n",
       "3             NaN\n",
       "4      306.120000\n",
       "          ...    \n",
       "373    305.690490\n",
       "374    305.460327\n",
       "375    306.090218\n",
       "376    306.076812\n",
       "377    306.617875\n",
       "Length: 378, dtype: float64"
      ]
     },
     "execution_count": 72,
     "metadata": {},
     "output_type": "execute_result"
    }
   ],
   "source": [
    "EMA(df_tmBar['cl'], 5)"
   ]
  },
  {
   "cell_type": "markdown",
   "metadata": {},
   "source": [
    "# MACD"
   ]
  },
  {
   "cell_type": "code",
   "execution_count": 74,
   "metadata": {},
   "outputs": [],
   "source": [
    "def MACD(ohlc, nFast=12, nSlow=26, nSig=9, percent=True):\n",
    "    ema1 = EMA(ohlc, nFast)\n",
    "    ema2 = EMA(ohlc, nSlow)\n",
    "    \n",
    "    if percent:\n",
    "        macdLine =  100 * (ema1 - ema2) / ema2\n",
    "    else:\n",
    "        macdLine =  ema1 - ema2\n",
    "    signalLine = EMA(macdLine, nSig)\n",
    "    \n",
    "    return pd.DataFrame(macdLine - signalLine, index=ohlc.index)\n"
   ]
  },
  {
   "cell_type": "code",
   "execution_count": 75,
   "metadata": {},
   "outputs": [
    {
     "data": {
      "text/html": [
       "<div>\n",
       "<style scoped>\n",
       "    .dataframe tbody tr th:only-of-type {\n",
       "        vertical-align: middle;\n",
       "    }\n",
       "\n",
       "    .dataframe tbody tr th {\n",
       "        vertical-align: top;\n",
       "    }\n",
       "\n",
       "    .dataframe thead th {\n",
       "        text-align: right;\n",
       "    }\n",
       "</style>\n",
       "<table border=\"1\" class=\"dataframe\">\n",
       "  <thead>\n",
       "    <tr style=\"text-align: right;\">\n",
       "      <th></th>\n",
       "      <th>0</th>\n",
       "    </tr>\n",
       "  </thead>\n",
       "  <tbody>\n",
       "    <tr>\n",
       "      <th>0</th>\n",
       "      <td>NaN</td>\n",
       "    </tr>\n",
       "    <tr>\n",
       "      <th>1</th>\n",
       "      <td>NaN</td>\n",
       "    </tr>\n",
       "    <tr>\n",
       "      <th>2</th>\n",
       "      <td>NaN</td>\n",
       "    </tr>\n",
       "    <tr>\n",
       "      <th>3</th>\n",
       "      <td>NaN</td>\n",
       "    </tr>\n",
       "    <tr>\n",
       "      <th>4</th>\n",
       "      <td>NaN</td>\n",
       "    </tr>\n",
       "  </tbody>\n",
       "</table>\n",
       "</div>"
      ],
      "text/plain": [
       "    0\n",
       "0 NaN\n",
       "1 NaN\n",
       "2 NaN\n",
       "3 NaN\n",
       "4 NaN"
      ]
     },
     "execution_count": 75,
     "metadata": {},
     "output_type": "execute_result"
    }
   ],
   "source": [
    "MACD(df_tmBar['cl']).head()"
   ]
  },
  {
   "cell_type": "markdown",
   "metadata": {},
   "source": [
    "# RSE"
   ]
  },
  {
   "cell_type": "code",
   "execution_count": 20,
   "metadata": {},
   "outputs": [],
   "source": [
    "def RSI(ohlc, n=14):\n",
    "    closePrice = pd.DataFrame(ohlc)\n",
    "    U = np.where(closePrice.diff(1) > 0, closePrice.diff(1), 0)\n",
    "    D = np.where(closePrice.diff(1) < 0, closePrice.diff(1) * (-1), 0)\n",
    "    \n",
    "    U = pd.DataFrame(U, index=ohlc.index)\n",
    "    D = pd.DataFrame(D, index=ohlc.index)\n",
    "    \n",
    "    AU = U.rolling(window=n).mean()\n",
    "    AD = D.rolling(window=n).mean()\n",
    "\n",
    "    return 100 * AU / (AU + AD)\n"
   ]
  },
  {
   "cell_type": "code",
   "execution_count": 21,
   "metadata": {},
   "outputs": [
    {
     "data": {
      "text/html": [
       "<div>\n",
       "<style scoped>\n",
       "    .dataframe tbody tr th:only-of-type {\n",
       "        vertical-align: middle;\n",
       "    }\n",
       "\n",
       "    .dataframe tbody tr th {\n",
       "        vertical-align: top;\n",
       "    }\n",
       "\n",
       "    .dataframe thead th {\n",
       "        text-align: right;\n",
       "    }\n",
       "</style>\n",
       "<table border=\"1\" class=\"dataframe\">\n",
       "  <thead>\n",
       "    <tr style=\"text-align: right;\">\n",
       "      <th></th>\n",
       "      <th>0</th>\n",
       "    </tr>\n",
       "  </thead>\n",
       "  <tbody>\n",
       "    <tr>\n",
       "      <th>0</th>\n",
       "      <td>NaN</td>\n",
       "    </tr>\n",
       "    <tr>\n",
       "      <th>1</th>\n",
       "      <td>NaN</td>\n",
       "    </tr>\n",
       "    <tr>\n",
       "      <th>2</th>\n",
       "      <td>NaN</td>\n",
       "    </tr>\n",
       "    <tr>\n",
       "      <th>3</th>\n",
       "      <td>NaN</td>\n",
       "    </tr>\n",
       "    <tr>\n",
       "      <th>4</th>\n",
       "      <td>NaN</td>\n",
       "    </tr>\n",
       "    <tr>\n",
       "      <th>...</th>\n",
       "      <td>...</td>\n",
       "    </tr>\n",
       "    <tr>\n",
       "      <th>373</th>\n",
       "      <td>51.690821</td>\n",
       "    </tr>\n",
       "    <tr>\n",
       "      <th>374</th>\n",
       "      <td>50.952381</td>\n",
       "    </tr>\n",
       "    <tr>\n",
       "      <th>375</th>\n",
       "      <td>49.878345</td>\n",
       "    </tr>\n",
       "    <tr>\n",
       "      <th>376</th>\n",
       "      <td>47.101449</td>\n",
       "    </tr>\n",
       "    <tr>\n",
       "      <th>377</th>\n",
       "      <td>50.639386</td>\n",
       "    </tr>\n",
       "  </tbody>\n",
       "</table>\n",
       "<p>378 rows × 1 columns</p>\n",
       "</div>"
      ],
      "text/plain": [
       "             0\n",
       "0          NaN\n",
       "1          NaN\n",
       "2          NaN\n",
       "3          NaN\n",
       "4          NaN\n",
       "..         ...\n",
       "373  51.690821\n",
       "374  50.952381\n",
       "375  49.878345\n",
       "376  47.101449\n",
       "377  50.639386\n",
       "\n",
       "[378 rows x 1 columns]"
      ]
     },
     "execution_count": 21,
     "metadata": {},
     "output_type": "execute_result"
    }
   ],
   "source": [
    "RSI(df_tmBar['cl'])"
   ]
  },
  {
   "cell_type": "markdown",
   "metadata": {},
   "source": [
    "# OBV"
   ]
  },
  {
   "cell_type": "code",
   "execution_count": 77,
   "metadata": {},
   "outputs": [],
   "source": [
    "from scipy.stats import norm\n",
    "\n",
    "def OBV(ohlcv, ext=True):\n",
    "    obv = [0]\n",
    "    \n",
    "    # 기존의 OBV\n",
    "    if ext == False:\n",
    "        # 기술적 지표인 OBV를 계산한다\n",
    "        for curr, prev in zip(ohlcv.itertuples(), ohlcv.shift(1).itertuples()):\n",
    "            if math.isnan(prev.vol):\n",
    "                continue\n",
    "            \n",
    "            if curr.cl > prev.cl:\n",
    "                obv.append(obv[-1] + curr['qty'])\n",
    "            if curr.cl < prev.cl:\n",
    "                obv.append(obv[-1] - curr['qty'])\n",
    "            if curr.cl == prev.cl:\n",
    "                obv.append(obv[-1])\n",
    "    # Extendedd OBV\n",
    "    else:\n",
    "        # 가격 변화를 측정한다. 가격 변화 = 금일 종가 - 전일 종가\n",
    "        deltaClose = ohlcv['cl'].diff(1)\n",
    "        \n",
    "        deltaClose = deltaClose.dropna(axis = 0)\n",
    "        \n",
    "        # 가격 변화의 표준편차를 측정한다\n",
    "        stdev = np.std(deltaClose)\n",
    "        \n",
    "        for curr, prev in zip(ohlcv.itertuples(), ohlcv.shift(1).itertuples()):\n",
    "            if math.isnan(prev.cl):\n",
    "                continue\n",
    "            \n",
    "            buy = curr.vol * norm.cdf((curr.cl - prev.cl) / stdev)\n",
    "            sell = curr.vol - buy\n",
    "            bs = abs(buy - sell)\n",
    "            \n",
    "            if curr.cl > prev.cl:\n",
    "                obv.append(obv[-1] + bs)\n",
    "            if  curr.cl < prev.cl:\n",
    "                obv.append(obv[-1] - bs)\n",
    "            if curr.cl == prev.cl:\n",
    "                obv.append(obv[-1])\n",
    "        \n",
    "    return pd.DataFrame(obv, index=ohlcv.index)\n"
   ]
  },
  {
   "cell_type": "code",
   "execution_count": 78,
   "metadata": {},
   "outputs": [],
   "source": [
    "df_tmBar = df_tmBar.dropna(subset=['vol'])"
   ]
  },
  {
   "cell_type": "code",
   "execution_count": 79,
   "metadata": {},
   "outputs": [
    {
     "data": {
      "text/html": [
       "<div>\n",
       "<style scoped>\n",
       "    .dataframe tbody tr th:only-of-type {\n",
       "        vertical-align: middle;\n",
       "    }\n",
       "\n",
       "    .dataframe tbody tr th {\n",
       "        vertical-align: top;\n",
       "    }\n",
       "\n",
       "    .dataframe thead th {\n",
       "        text-align: right;\n",
       "    }\n",
       "</style>\n",
       "<table border=\"1\" class=\"dataframe\">\n",
       "  <thead>\n",
       "    <tr style=\"text-align: right;\">\n",
       "      <th></th>\n",
       "      <th>tm</th>\n",
       "      <th>op</th>\n",
       "      <th>hi</th>\n",
       "      <th>lo</th>\n",
       "      <th>cl</th>\n",
       "      <th>vol</th>\n",
       "      <th>b</th>\n",
       "      <th>s</th>\n",
       "      <th>EMA</th>\n",
       "    </tr>\n",
       "  </thead>\n",
       "  <tbody>\n",
       "    <tr>\n",
       "      <th>0</th>\n",
       "      <td>1357</td>\n",
       "      <td>305.15</td>\n",
       "      <td>305.15</td>\n",
       "      <td>305.00</td>\n",
       "      <td>305.05</td>\n",
       "      <td>88</td>\n",
       "      <td>42</td>\n",
       "      <td>46</td>\n",
       "      <td>NaN</td>\n",
       "    </tr>\n",
       "    <tr>\n",
       "      <th>1</th>\n",
       "      <td>0922</td>\n",
       "      <td>307.70</td>\n",
       "      <td>307.90</td>\n",
       "      <td>307.70</td>\n",
       "      <td>307.70</td>\n",
       "      <td>100</td>\n",
       "      <td>34</td>\n",
       "      <td>46</td>\n",
       "      <td>NaN</td>\n",
       "    </tr>\n",
       "    <tr>\n",
       "      <th>2</th>\n",
       "      <td>1413</td>\n",
       "      <td>304.70</td>\n",
       "      <td>304.85</td>\n",
       "      <td>304.65</td>\n",
       "      <td>304.85</td>\n",
       "      <td>173</td>\n",
       "      <td>143</td>\n",
       "      <td>30</td>\n",
       "      <td>NaN</td>\n",
       "    </tr>\n",
       "    <tr>\n",
       "      <th>3</th>\n",
       "      <td>1030</td>\n",
       "      <td>306.15</td>\n",
       "      <td>306.30</td>\n",
       "      <td>306.10</td>\n",
       "      <td>306.25</td>\n",
       "      <td>151</td>\n",
       "      <td>65</td>\n",
       "      <td>86</td>\n",
       "      <td>NaN</td>\n",
       "    </tr>\n",
       "    <tr>\n",
       "      <th>4</th>\n",
       "      <td>0948</td>\n",
       "      <td>306.85</td>\n",
       "      <td>306.90</td>\n",
       "      <td>306.75</td>\n",
       "      <td>306.75</td>\n",
       "      <td>89</td>\n",
       "      <td>41</td>\n",
       "      <td>48</td>\n",
       "      <td>306.12</td>\n",
       "    </tr>\n",
       "  </tbody>\n",
       "</table>\n",
       "</div>"
      ],
      "text/plain": [
       "     tm      op      hi      lo      cl  vol    b   s     EMA\n",
       "0  1357  305.15  305.15  305.00  305.05   88   42  46     NaN\n",
       "1  0922  307.70  307.90  307.70  307.70  100   34  46     NaN\n",
       "2  1413  304.70  304.85  304.65  304.85  173  143  30     NaN\n",
       "3  1030  306.15  306.30  306.10  306.25  151   65  86     NaN\n",
       "4  0948  306.85  306.90  306.75  306.75   89   41  48  306.12"
      ]
     },
     "execution_count": 79,
     "metadata": {},
     "output_type": "execute_result"
    }
   ],
   "source": [
    "df_tmBar.head()"
   ]
  },
  {
   "cell_type": "code",
   "execution_count": 80,
   "metadata": {},
   "outputs": [
    {
     "data": {
      "text/html": [
       "<div>\n",
       "<style scoped>\n",
       "    .dataframe tbody tr th:only-of-type {\n",
       "        vertical-align: middle;\n",
       "    }\n",
       "\n",
       "    .dataframe tbody tr th {\n",
       "        vertical-align: top;\n",
       "    }\n",
       "\n",
       "    .dataframe thead th {\n",
       "        text-align: right;\n",
       "    }\n",
       "</style>\n",
       "<table border=\"1\" class=\"dataframe\">\n",
       "  <thead>\n",
       "    <tr style=\"text-align: right;\">\n",
       "      <th></th>\n",
       "      <th>0</th>\n",
       "    </tr>\n",
       "  </thead>\n",
       "  <tbody>\n",
       "    <tr>\n",
       "      <th>373</th>\n",
       "      <td>-1852.196601</td>\n",
       "    </tr>\n",
       "    <tr>\n",
       "      <th>374</th>\n",
       "      <td>-1850.360827</td>\n",
       "    </tr>\n",
       "    <tr>\n",
       "      <th>375</th>\n",
       "      <td>-1794.160832</td>\n",
       "    </tr>\n",
       "    <tr>\n",
       "      <th>376</th>\n",
       "      <td>-1851.803616</td>\n",
       "    </tr>\n",
       "    <tr>\n",
       "      <th>377</th>\n",
       "      <td>-1781.655720</td>\n",
       "    </tr>\n",
       "  </tbody>\n",
       "</table>\n",
       "</div>"
      ],
      "text/plain": [
       "               0\n",
       "373 -1852.196601\n",
       "374 -1850.360827\n",
       "375 -1794.160832\n",
       "376 -1851.803616\n",
       "377 -1781.655720"
      ]
     },
     "execution_count": 80,
     "metadata": {},
     "output_type": "execute_result"
    }
   ],
   "source": [
    "OBV(df_tmBar, ext=True).tail()"
   ]
  },
  {
   "cell_type": "markdown",
   "metadata": {},
   "source": [
    "# Smooth"
   ]
  },
  {
   "cell_type": "code",
   "execution_count": 28,
   "metadata": {},
   "outputs": [],
   "source": [
    "from scipy.stats import norm\n",
    "from scipy import ndimage\n",
    "\n",
    "# 시계열을 평활화한다\n",
    "def smooth(data, s=5):\n",
    "    y = data.values\n",
    "    w = np.isnan(y)\n",
    "    y[w] = 0.\n",
    "    sm = ndimage.gaussian_filter1d(y, s)\n",
    "    return pd.DataFrame(sm)"
   ]
  },
  {
   "cell_type": "code",
   "execution_count": 29,
   "metadata": {},
   "outputs": [
    {
     "data": {
      "text/html": [
       "<div>\n",
       "<style scoped>\n",
       "    .dataframe tbody tr th:only-of-type {\n",
       "        vertical-align: middle;\n",
       "    }\n",
       "\n",
       "    .dataframe tbody tr th {\n",
       "        vertical-align: top;\n",
       "    }\n",
       "\n",
       "    .dataframe thead th {\n",
       "        text-align: right;\n",
       "    }\n",
       "</style>\n",
       "<table border=\"1\" class=\"dataframe\">\n",
       "  <thead>\n",
       "    <tr style=\"text-align: right;\">\n",
       "      <th></th>\n",
       "      <th>0</th>\n",
       "    </tr>\n",
       "  </thead>\n",
       "  <tbody>\n",
       "    <tr>\n",
       "      <th>0</th>\n",
       "      <td>305.736527</td>\n",
       "    </tr>\n",
       "    <tr>\n",
       "      <th>1</th>\n",
       "      <td>305.725710</td>\n",
       "    </tr>\n",
       "    <tr>\n",
       "      <th>2</th>\n",
       "      <td>305.702440</td>\n",
       "    </tr>\n",
       "    <tr>\n",
       "      <th>3</th>\n",
       "      <td>305.663845</td>\n",
       "    </tr>\n",
       "    <tr>\n",
       "      <th>4</th>\n",
       "      <td>305.606724</td>\n",
       "    </tr>\n",
       "    <tr>\n",
       "      <th>...</th>\n",
       "      <td>...</td>\n",
       "    </tr>\n",
       "    <tr>\n",
       "      <th>373</th>\n",
       "      <td>305.450477</td>\n",
       "    </tr>\n",
       "    <tr>\n",
       "      <th>374</th>\n",
       "      <td>305.508307</td>\n",
       "    </tr>\n",
       "    <tr>\n",
       "      <th>375</th>\n",
       "      <td>305.557506</td>\n",
       "    </tr>\n",
       "    <tr>\n",
       "      <th>376</th>\n",
       "      <td>305.593205</td>\n",
       "    </tr>\n",
       "    <tr>\n",
       "      <th>377</th>\n",
       "      <td>305.611906</td>\n",
       "    </tr>\n",
       "  </tbody>\n",
       "</table>\n",
       "<p>378 rows × 1 columns</p>\n",
       "</div>"
      ],
      "text/plain": [
       "              0\n",
       "0    305.736527\n",
       "1    305.725710\n",
       "2    305.702440\n",
       "3    305.663845\n",
       "4    305.606724\n",
       "..          ...\n",
       "373  305.450477\n",
       "374  305.508307\n",
       "375  305.557506\n",
       "376  305.593205\n",
       "377  305.611906\n",
       "\n",
       "[378 rows x 1 columns]"
      ]
     },
     "execution_count": 29,
     "metadata": {},
     "output_type": "execute_result"
    }
   ],
   "source": [
    "smooth(df_tmBar['cl'], s=5)"
   ]
  },
  {
   "cell_type": "markdown",
   "metadata": {},
   "source": [
    "# EMA 크로스 전략"
   ]
  },
  {
   "cell_type": "code",
   "execution_count": 81,
   "metadata": {},
   "outputs": [
    {
     "name": "stderr",
     "output_type": "stream",
     "text": [
      "C:\\ProgramData\\Anaconda3\\lib\\site-packages\\pandas_datareader\\compat\\__init__.py:7: FutureWarning: pandas.util.testing is deprecated. Use the functions in the public API at pandas.testing instead.\n",
      "  from pandas.util.testing import assert_frame_equal\n"
     ]
    }
   ],
   "source": [
    "import pandas as pd\n",
    "import pandas_datareader as pdr\n",
    "import numpy as np\n",
    "from datetime import datetime\n",
    "import warnings\n",
    "warnings.filterwarnings('ignore')\n",
    "\n",
    "# 1번 방법\n",
    "# DataReader API를 통해서 yahoo finance의 주식 종목 데이터를 가져온다.\n",
    "start = datetime(2018,1,1)\n",
    "end = datetime(2019,12,31)\n",
    "df = pdr.DataReader('005930.KS', 'yahoo', start, end)"
   ]
  },
  {
   "cell_type": "code",
   "execution_count": 82,
   "metadata": {},
   "outputs": [],
   "source": [
    "df['sma5']=df['Close'].rolling(5).mean()\n",
    "df['sma20']=df['Close'].rolling(20).mean()\n",
    "df['sma100']=df['Close'].rolling(100).mean()\n",
    "df['sma200']=df['Close'].rolling(200).mean()"
   ]
  },
  {
   "cell_type": "code",
   "execution_count": 83,
   "metadata": {},
   "outputs": [
    {
     "data": {
      "text/plain": [
       "<AxesSubplot:xlabel='Date'>"
      ]
     },
     "execution_count": 83,
     "metadata": {},
     "output_type": "execute_result"
    },
    {
     "data": {
      "image/png": "[encoded data removed]",
      "text/plain": [
       "<Figure size 432x288 with 1 Axes>"
      ]
     },
     "metadata": {
      "needs_background": "light"
     },
     "output_type": "display_data"
    }
   ],
   "source": [
    "df['sma20'].plot()\n",
    "df['Close'].plot()"
   ]
  },
  {
   "cell_type": "code",
   "execution_count": 84,
   "metadata": {},
   "outputs": [],
   "source": [
    "df['ema5']=df['Close'].ewm(5).mean()\n",
    "df['ema20']=df['Close'].ewm(20).mean()\n",
    "df['ema100']=df['Close'].ewm(100).mean()\n",
    "df['ema200']=df['Close'].ewm(200).mean()"
   ]
  },
  {
   "cell_type": "code",
   "execution_count": 85,
   "metadata": {},
   "outputs": [
    {
     "data": {
      "text/plain": [
       "<AxesSubplot:xlabel='Date'>"
      ]
     },
     "execution_count": 85,
     "metadata": {},
     "output_type": "execute_result"
    },
    {
     "data": {
      "image/png": "[encoded data removed]",
      "text/plain": [
       "<Figure size 432x288 with 1 Axes>"
      ]
     },
     "metadata": {
      "needs_background": "light"
     },
     "output_type": "display_data"
    }
   ],
   "source": [
    "df['ema20'].plot()\n",
    "df['sma20'].plot()\n",
    "df['Close'].plot()"
   ]
  },
  {
   "cell_type": "code",
   "execution_count": 86,
   "metadata": {},
   "outputs": [],
   "source": [
    "def weighted_mean(weight_array):\n",
    "    def inner(x):\n",
    "        return (weight_array * x).mean()\n",
    "    return inner\n",
    "\n",
    "weights = np.arange(1,6)\n",
    "wma5 = df['Close'].rolling(5).apply(lambda prices: np.dot(prices, weights)/weights.sum(), raw=True)\n",
    "\n",
    "weights = np.arange(1,21)\n",
    "wma20 = df['Close'].rolling(20).apply(lambda prices: np.dot(prices, weights)/weights.sum(), raw=True)\n",
    "\n",
    "weights = np.arange(1,101)\n",
    "wma100 = df['Close'].rolling(100).apply(lambda prices: np.dot(prices, weights)/weights.sum(), raw=True)\n",
    "\n",
    "weights = np.arange(1,201)\n",
    "wma200 = df['Close'].rolling(200).apply(lambda prices: np.dot(prices, weights)/weights.sum(), raw=True)\n",
    "\n",
    "df['wma5'] = wma5\n",
    "df['wma20'] = wma20\n",
    "df['wma100'] = wma100\n",
    "df['wma200'] = wma200"
   ]
  },
  {
   "cell_type": "code",
   "execution_count": 87,
   "metadata": {},
   "outputs": [
    {
     "data": {
      "text/plain": [
       "<AxesSubplot:xlabel='Date'>"
      ]
     },
     "execution_count": 87,
     "metadata": {},
     "output_type": "execute_result"
    },
    {
     "data": {
      "image/png": "[encoded data removed]",
      "text/plain": [
       "<Figure size 720x360 with 1 Axes>"
      ]
     },
     "metadata": {
      "needs_background": "light"
     },
     "output_type": "display_data"
    }
   ],
   "source": [
    "df['wma20'].plot(figsize=(10,5))\n",
    "df['ema20'].plot()\n",
    "df['sma20'].plot()\n",
    "df['Close'].plot()"
   ]
  },
  {
   "cell_type": "markdown",
   "metadata": {},
   "source": [
    "# EWMA Volatiltiy"
   ]
  },
  {
   "cell_type": "code",
   "execution_count": 88,
   "metadata": {},
   "outputs": [],
   "source": [
    "def CalculateEWMAVol (ReturnSeries, Lambda):   \n",
    "    SampleSize = len(ReturnSeries)\n",
    "    Average = ReturnSeries.mean()\n",
    "\n",
    "    e = np.arange(SampleSize-1,-1,-1)\n",
    "    r = np.repeat(Lambda,SampleSize)\n",
    "    vecLambda = np.power(r,e)\n",
    "\n",
    "    sxxewm = (np.power(ReturnSeries-Average,2)*vecLambda).sum()\n",
    "    Vart = sxxewm/vecLambda.sum()\n",
    "    EWMAVol = math.sqrt(Vart)\n",
    "\n",
    "    return (EWMAVol)\n",
    "\n",
    "def CalculateVol (R, Lambda):\n",
    "    Vol = pd.Series(index=R.columns)\n",
    "    for facId in R.columns:\n",
    "        Vol[facId] = CalculateEWMAVol(R[facId], Lambda)\n",
    "\n",
    "    return (Vol)"
   ]
  },
  {
   "cell_type": "code",
   "execution_count": 89,
   "metadata": {},
   "outputs": [],
   "source": [
    "df_tmp=df['Close'].pct_change()\n",
    "df_chg=pd.DataFrame(df_tmp)"
   ]
  },
  {
   "cell_type": "code",
   "execution_count": 100,
   "metadata": {},
   "outputs": [
    {
     "data": {
      "text/plain": [
       "Close    0.014579\n",
       "dtype: float64"
      ]
     },
     "execution_count": 100,
     "metadata": {},
     "output_type": "execute_result"
    }
   ],
   "source": [
    "import math\n",
    "CalculateVol(df_chg, 0.94)"
   ]
  },
  {
   "cell_type": "code",
   "execution_count": 101,
   "metadata": {},
   "outputs": [
    {
     "data": {
      "text/html": [
       "<div>\n",
       "<style scoped>\n",
       "    .dataframe tbody tr th:only-of-type {\n",
       "        vertical-align: middle;\n",
       "    }\n",
       "\n",
       "    .dataframe tbody tr th {\n",
       "        vertical-align: top;\n",
       "    }\n",
       "\n",
       "    .dataframe thead th {\n",
       "        text-align: right;\n",
       "    }\n",
       "</style>\n",
       "<table border=\"1\" class=\"dataframe\">\n",
       "  <thead>\n",
       "    <tr style=\"text-align: right;\">\n",
       "      <th></th>\n",
       "      <th>Close</th>\n",
       "    </tr>\n",
       "    <tr>\n",
       "      <th>Date</th>\n",
       "      <th></th>\n",
       "    </tr>\n",
       "  </thead>\n",
       "  <tbody>\n",
       "    <tr>\n",
       "      <th>2018-01-03</th>\n",
       "      <td>NaN</td>\n",
       "    </tr>\n",
       "    <tr>\n",
       "      <th>2018-01-04</th>\n",
       "      <td>-0.010461</td>\n",
       "    </tr>\n",
       "    <tr>\n",
       "      <th>2018-01-05</th>\n",
       "      <td>0.020360</td>\n",
       "    </tr>\n",
       "    <tr>\n",
       "      <th>2018-01-08</th>\n",
       "      <td>-0.001919</td>\n",
       "    </tr>\n",
       "    <tr>\n",
       "      <th>2018-01-09</th>\n",
       "      <td>-0.031142</td>\n",
       "    </tr>\n",
       "  </tbody>\n",
       "</table>\n",
       "</div>"
      ],
      "text/plain": [
       "               Close\n",
       "Date                \n",
       "2018-01-03       NaN\n",
       "2018-01-04 -0.010461\n",
       "2018-01-05  0.020360\n",
       "2018-01-08 -0.001919\n",
       "2018-01-09 -0.031142"
      ]
     },
     "execution_count": 101,
     "metadata": {},
     "output_type": "execute_result"
    }
   ],
   "source": [
    "df_chg.head()"
   ]
  },
  {
   "cell_type": "code",
   "execution_count": 104,
   "metadata": {},
   "outputs": [
    {
     "data": {
      "text/html": [
       "<div>\n",
       "<style scoped>\n",
       "    .dataframe tbody tr th:only-of-type {\n",
       "        vertical-align: middle;\n",
       "    }\n",
       "\n",
       "    .dataframe tbody tr th {\n",
       "        vertical-align: top;\n",
       "    }\n",
       "\n",
       "    .dataframe thead th {\n",
       "        text-align: right;\n",
       "    }\n",
       "</style>\n",
       "<table border=\"1\" class=\"dataframe\">\n",
       "  <thead>\n",
       "    <tr style=\"text-align: right;\">\n",
       "      <th></th>\n",
       "      <th>Close</th>\n",
       "    </tr>\n",
       "    <tr>\n",
       "      <th>Date</th>\n",
       "      <th></th>\n",
       "    </tr>\n",
       "  </thead>\n",
       "  <tbody>\n",
       "    <tr>\n",
       "      <th>2018-01-03</th>\n",
       "      <td>NaN</td>\n",
       "    </tr>\n",
       "    <tr>\n",
       "      <th>2018-01-04</th>\n",
       "      <td>-0.010461</td>\n",
       "    </tr>\n",
       "    <tr>\n",
       "      <th>2018-01-05</th>\n",
       "      <td>0.020360</td>\n",
       "    </tr>\n",
       "    <tr>\n",
       "      <th>2018-01-08</th>\n",
       "      <td>-0.001919</td>\n",
       "    </tr>\n",
       "    <tr>\n",
       "      <th>2018-01-09</th>\n",
       "      <td>-0.031142</td>\n",
       "    </tr>\n",
       "    <tr>\n",
       "      <th>...</th>\n",
       "      <td>...</td>\n",
       "    </tr>\n",
       "    <tr>\n",
       "      <th>2019-12-23</th>\n",
       "      <td>-0.008929</td>\n",
       "    </tr>\n",
       "    <tr>\n",
       "      <th>2019-12-24</th>\n",
       "      <td>-0.009009</td>\n",
       "    </tr>\n",
       "    <tr>\n",
       "      <th>2019-12-26</th>\n",
       "      <td>0.007273</td>\n",
       "    </tr>\n",
       "    <tr>\n",
       "      <th>2019-12-27</th>\n",
       "      <td>0.019856</td>\n",
       "    </tr>\n",
       "    <tr>\n",
       "      <th>2019-12-30</th>\n",
       "      <td>-0.012389</td>\n",
       "    </tr>\n",
       "  </tbody>\n",
       "</table>\n",
       "<p>487 rows × 1 columns</p>\n",
       "</div>"
      ],
      "text/plain": [
       "               Close\n",
       "Date                \n",
       "2018-01-03       NaN\n",
       "2018-01-04 -0.010461\n",
       "2018-01-05  0.020360\n",
       "2018-01-08 -0.001919\n",
       "2018-01-09 -0.031142\n",
       "...              ...\n",
       "2019-12-23 -0.008929\n",
       "2019-12-24 -0.009009\n",
       "2019-12-26  0.007273\n",
       "2019-12-27  0.019856\n",
       "2019-12-30 -0.012389\n",
       "\n",
       "[487 rows x 1 columns]"
      ]
     },
     "execution_count": 104,
     "metadata": {},
     "output_type": "execute_result"
    }
   ],
   "source": [
    "df_chg"
   ]
  },
  {
   "cell_type": "code",
   "execution_count": 112,
   "metadata": {},
   "outputs": [],
   "source": [
    "df_tmp=df_chg.copy()"
   ]
  },
  {
   "cell_type": "code",
   "execution_count": 113,
   "metadata": {},
   "outputs": [
    {
     "ename": "ValueError",
     "evalue": "Unable to coerce to DataFrame, shape must be (487, 1): given (487, 487)",
     "output_type": "error",
     "traceback": [
      "\u001b[1;31m---------------------------------------------------------------------------\u001b[0m",
      "\u001b[1;31mValueError\u001b[0m                                Traceback (most recent call last)",
      "\u001b[1;32m<ipython-input-113-ca31e320ff72>\u001b[0m in \u001b[0;36m<module>\u001b[1;34m\u001b[0m\n\u001b[0;32m      6\u001b[0m \u001b[0mavg_weight\u001b[0m \u001b[1;33m=\u001b[0m \u001b[0mnp\u001b[0m\u001b[1;33m.\u001b[0m\u001b[0mones\u001b[0m\u001b[1;33m(\u001b[0m\u001b[0mdf_tmp\u001b[0m\u001b[1;33m.\u001b[0m\u001b[0mshape\u001b[0m\u001b[1;33m[\u001b[0m\u001b[1;36m0\u001b[0m\u001b[1;33m]\u001b[0m\u001b[1;33m)\u001b[0m \u001b[1;33m/\u001b[0m \u001b[0mdf_tmp\u001b[0m\u001b[1;33m.\u001b[0m\u001b[0mshape\u001b[0m\u001b[1;33m[\u001b[0m\u001b[1;36m0\u001b[0m\u001b[1;33m]\u001b[0m\u001b[1;33m\u001b[0m\u001b[1;33m\u001b[0m\u001b[0m\n\u001b[0;32m      7\u001b[0m \u001b[0mT\u001b[0m\u001b[1;33m,\u001b[0m \u001b[0mN\u001b[0m \u001b[1;33m=\u001b[0m \u001b[0mdf_tmp\u001b[0m\u001b[1;33m.\u001b[0m\u001b[0mshape\u001b[0m\u001b[1;33m[\u001b[0m\u001b[1;36m0\u001b[0m\u001b[1;33m]\u001b[0m\u001b[1;33m,\u001b[0m \u001b[0mdf_tmp\u001b[0m\u001b[1;33m.\u001b[0m\u001b[0mshape\u001b[0m\u001b[1;33m[\u001b[0m\u001b[1;36m1\u001b[0m\u001b[1;33m]\u001b[0m\u001b[1;33m\u001b[0m\u001b[1;33m\u001b[0m\u001b[0m\n\u001b[1;32m----> 8\u001b[1;33m \u001b[0mtemp\u001b[0m \u001b[1;33m=\u001b[0m \u001b[0mdf_tmp\u001b[0m \u001b[1;33m-\u001b[0m \u001b[0mdf_tmp\u001b[0m \u001b[1;33m*\u001b[0m \u001b[0mnp\u001b[0m\u001b[1;33m.\u001b[0m\u001b[0mtile\u001b[0m\u001b[1;33m(\u001b[0m\u001b[0mavg_weight\u001b[0m\u001b[1;33m,\u001b[0m \u001b[1;33m(\u001b[0m\u001b[0mT\u001b[0m\u001b[1;33m,\u001b[0m \u001b[1;36m1\u001b[0m\u001b[1;33m)\u001b[0m\u001b[1;33m)\u001b[0m\u001b[1;33m.\u001b[0m\u001b[0mT\u001b[0m\u001b[1;33m\u001b[0m\u001b[1;33m\u001b[0m\u001b[0m\n\u001b[0m\u001b[0;32m      9\u001b[0m \u001b[0mtemp\u001b[0m \u001b[1;33m=\u001b[0m \u001b[0mnp\u001b[0m\u001b[1;33m.\u001b[0m\u001b[0mdot\u001b[0m\u001b[1;33m(\u001b[0m\u001b[0mtemp\u001b[0m\u001b[1;33m.\u001b[0m\u001b[0mT\u001b[0m\u001b[1;33m,\u001b[0m \u001b[0mtemp\u001b[0m \u001b[1;33m*\u001b[0m \u001b[0mnp\u001b[0m\u001b[1;33m.\u001b[0m\u001b[0mtile\u001b[0m\u001b[1;33m(\u001b[0m\u001b[0mw\u001b[0m\u001b[1;33m,\u001b[0m \u001b[1;33m(\u001b[0m\u001b[0mT\u001b[0m\u001b[1;33m,\u001b[0m \u001b[1;36m1\u001b[0m\u001b[1;33m)\u001b[0m\u001b[1;33m)\u001b[0m\u001b[1;33m.\u001b[0m\u001b[0mT\u001b[0m\u001b[1;33m)\u001b[0m\u001b[1;33m\u001b[0m\u001b[1;33m\u001b[0m\u001b[0m\n\u001b[0;32m     10\u001b[0m \u001b[0mtemp\u001b[0m \u001b[1;33m=\u001b[0m \u001b[1;36m0.5\u001b[0m \u001b[1;33m*\u001b[0m \u001b[1;33m(\u001b[0m\u001b[0mtemp\u001b[0m \u001b[1;33m+\u001b[0m \u001b[0mtemp\u001b[0m\u001b[1;33m.\u001b[0m\u001b[0mT\u001b[0m\u001b[1;33m)\u001b[0m\u001b[1;33m\u001b[0m\u001b[1;33m\u001b[0m\u001b[0m\n",
      "\u001b[1;32mC:\\Users\\USER\\AppData\\Roaming\\Python\\Python36\\site-packages\\pandas\\core\\ops\\__init__.py\u001b[0m in \u001b[0;36mf\u001b[1;34m(self, other, axis, level, fill_value)\u001b[0m\n\u001b[0;32m    757\u001b[0m             \u001b[1;32mreturn\u001b[0m \u001b[0m_frame_arith_method_with_reindex\u001b[0m\u001b[1;33m(\u001b[0m\u001b[0mself\u001b[0m\u001b[1;33m,\u001b[0m \u001b[0mother\u001b[0m\u001b[1;33m,\u001b[0m \u001b[0mop\u001b[0m\u001b[1;33m)\u001b[0m\u001b[1;33m\u001b[0m\u001b[1;33m\u001b[0m\u001b[0m\n\u001b[0;32m    758\u001b[0m \u001b[1;33m\u001b[0m\u001b[0m\n\u001b[1;32m--> 759\u001b[1;33m         \u001b[0mother\u001b[0m \u001b[1;33m=\u001b[0m \u001b[0m_align_method_FRAME\u001b[0m\u001b[1;33m(\u001b[0m\u001b[0mself\u001b[0m\u001b[1;33m,\u001b[0m \u001b[0mother\u001b[0m\u001b[1;33m,\u001b[0m \u001b[0maxis\u001b[0m\u001b[1;33m)\u001b[0m\u001b[1;33m\u001b[0m\u001b[1;33m\u001b[0m\u001b[0m\n\u001b[0m\u001b[0;32m    760\u001b[0m \u001b[1;33m\u001b[0m\u001b[0m\n\u001b[0;32m    761\u001b[0m         \u001b[1;32mif\u001b[0m \u001b[0misinstance\u001b[0m\u001b[1;33m(\u001b[0m\u001b[0mother\u001b[0m\u001b[1;33m,\u001b[0m \u001b[0mABCDataFrame\u001b[0m\u001b[1;33m)\u001b[0m\u001b[1;33m:\u001b[0m\u001b[1;33m\u001b[0m\u001b[1;33m\u001b[0m\u001b[0m\n",
      "\u001b[1;32mC:\\Users\\USER\\AppData\\Roaming\\Python\\Python36\\site-packages\\pandas\\core\\ops\\__init__.py\u001b[0m in \u001b[0;36m_align_method_FRAME\u001b[1;34m(left, right, axis)\u001b[0m\n\u001b[0;32m    662\u001b[0m             \u001b[1;32melse\u001b[0m\u001b[1;33m:\u001b[0m\u001b[1;33m\u001b[0m\u001b[1;33m\u001b[0m\u001b[0m\n\u001b[0;32m    663\u001b[0m                 raise ValueError(\n\u001b[1;32m--> 664\u001b[1;33m                     \u001b[1;34m\"Unable to coerce to DataFrame, shape \"\u001b[0m\u001b[1;33m\u001b[0m\u001b[1;33m\u001b[0m\u001b[0m\n\u001b[0m\u001b[0;32m    665\u001b[0m                     \u001b[1;34mf\"must be {left.shape}: given {right.shape}\"\u001b[0m\u001b[1;33m\u001b[0m\u001b[1;33m\u001b[0m\u001b[0m\n\u001b[0;32m    666\u001b[0m                 )\n",
      "\u001b[1;31mValueError\u001b[0m: Unable to coerce to DataFrame, shape must be (487, 1): given (487, 487)"
     ]
    }
   ],
   "source": [
    "decay_factor = 0.94\n",
    "decay_f = np.arange(df_tmp.shape[0], 0, -1)\n",
    "decay_f = decay_factor ** decay_f\n",
    "decay_sum = sum(decay_f)\n",
    "w = decay_f / decay_sum\n",
    "avg_weight = np.ones(df_tmp.shape[0]) / df_tmp.shape[0]\n",
    "T, N = df_tmp.shape[0], df_tmp.shape[1]\n",
    "temp = df_tmp - df_tmp * np.tile(avg_weight, (T, 1)).T\n",
    "temp = np.dot(temp.T, temp * np.tile(w, (T, 1)).T)\n",
    "temp = 0.5 * (temp + temp.T)\n",
    "R = np.diag(temp)\n",
    "sigma = np.sqrt(R)\n",
    "R = temp / np.sqrt(np.dot(R, R.T))"
   ]
  },
  {
   "cell_type": "markdown",
   "metadata": {},
   "source": [
    "sigma is volatility, R is corr matrix and temp is covariance matrix."
   ]
  },
  {
   "cell_type": "code",
   "execution_count": 106,
   "metadata": {},
   "outputs": [
    {
     "data": {
      "text/plain": [
       "array([], dtype=float64)"
      ]
     },
     "execution_count": 106,
     "metadata": {},
     "output_type": "execute_result"
    }
   ],
   "source": [
    "sigma"
   ]
  },
  {
   "cell_type": "code",
   "execution_count": 107,
   "metadata": {},
   "outputs": [
    {
     "data": {
      "text/plain": [
       "array([], shape=(0, 0), dtype=float64)"
      ]
     },
     "execution_count": 107,
     "metadata": {},
     "output_type": "execute_result"
    }
   ],
   "source": [
    "R"
   ]
  },
  {
   "cell_type": "markdown",
   "metadata": {},
   "source": [
    "# VWAP"
   ]
  },
  {
   "cell_type": "code",
   "execution_count": 105,
   "metadata": {},
   "outputs": [],
   "source": [
    "df['vwap']=(df['bid1']+df['ask1']+df['bid2']+df['ask2']+df['bid3']+df['ask3'])/6.0"
   ]
  },
  {
   "cell_type": "code",
   "execution_count": 106,
   "metadata": {},
   "outputs": [
    {
     "data": {
      "text/plain": [
       "<matplotlib.axes._subplots.AxesSubplot at 0xd9e5860>"
      ]
     },
     "execution_count": 106,
     "metadata": {},
     "output_type": "execute_result"
    }
   ],
   "source": [
    "df['price'].plot(figsize=(10,5))"
   ]
  },
  {
   "cell_type": "code",
   "execution_count": null,
   "metadata": {},
   "outputs": [],
   "source": [
    "df['mid'].iloc[95:].plot()\n",
    "df['bid1'].loc[95:].plot(figsize=(10,5))\n",
    "df['ask1'].loc[95:].plot(figsize=(10,5))"
   ]
  },
  {
   "cell_type": "code",
   "execution_count": 108,
   "metadata": {},
   "outputs": [
    {
     "data": {
      "text/html": [
       "<div>\n",
       "<style scoped>\n",
       "    .dataframe tbody tr th:only-of-type {\n",
       "        vertical-align: middle;\n",
       "    }\n",
       "\n",
       "    .dataframe tbody tr th {\n",
       "        vertical-align: top;\n",
       "    }\n",
       "\n",
       "    .dataframe thead th {\n",
       "        text-align: right;\n",
       "    }\n",
       "</style>\n",
       "<table border=\"1\" class=\"dataframe\">\n",
       "  <thead>\n",
       "    <tr style=\"text-align: right;\">\n",
       "      <th></th>\n",
       "      <th>name</th>\n",
       "      <th>symbol</th>\n",
       "      <th>time</th>\n",
       "      <th>price</th>\n",
       "      <th>type</th>\n",
       "      <th>qty</th>\n",
       "      <th>bid1</th>\n",
       "      <th>bid2</th>\n",
       "      <th>bid3</th>\n",
       "      <th>bid4</th>\n",
       "      <th>...</th>\n",
       "      <th>bid4qty</th>\n",
       "      <th>bid5qty</th>\n",
       "      <th>ask1qty</th>\n",
       "      <th>ask2qty</th>\n",
       "      <th>ask3qty</th>\n",
       "      <th>ask4qty</th>\n",
       "      <th>ask5qty</th>\n",
       "      <th>total_bid_qty</th>\n",
       "      <th>totla_ask_qty</th>\n",
       "      <th>vwap</th>\n",
       "    </tr>\n",
       "  </thead>\n",
       "  <tbody>\n",
       "    <tr>\n",
       "      <th>0</th>\n",
       "      <td>F 2012</td>\n",
       "      <td>101QC000</td>\n",
       "      <td>085951</td>\n",
       "      <td>309.2</td>\n",
       "      <td></td>\n",
       "      <td>0</td>\n",
       "      <td>0.0</td>\n",
       "      <td>0.0</td>\n",
       "      <td>0.0</td>\n",
       "      <td>0.0</td>\n",
       "      <td>...</td>\n",
       "      <td>0</td>\n",
       "      <td>0</td>\n",
       "      <td>0</td>\n",
       "      <td>0</td>\n",
       "      <td>0</td>\n",
       "      <td>0</td>\n",
       "      <td>0</td>\n",
       "      <td>5651</td>\n",
       "      <td>6954</td>\n",
       "      <td>0.0</td>\n",
       "    </tr>\n",
       "    <tr>\n",
       "      <th>1</th>\n",
       "      <td>F 2012</td>\n",
       "      <td>101QC000</td>\n",
       "      <td>085952</td>\n",
       "      <td>309.2</td>\n",
       "      <td></td>\n",
       "      <td>0</td>\n",
       "      <td>0.0</td>\n",
       "      <td>0.0</td>\n",
       "      <td>0.0</td>\n",
       "      <td>0.0</td>\n",
       "      <td>...</td>\n",
       "      <td>0</td>\n",
       "      <td>0</td>\n",
       "      <td>0</td>\n",
       "      <td>0</td>\n",
       "      <td>0</td>\n",
       "      <td>0</td>\n",
       "      <td>0</td>\n",
       "      <td>5654</td>\n",
       "      <td>6972</td>\n",
       "      <td>0.0</td>\n",
       "    </tr>\n",
       "    <tr>\n",
       "      <th>2</th>\n",
       "      <td>F 2012</td>\n",
       "      <td>101QC000</td>\n",
       "      <td>085953</td>\n",
       "      <td>309.2</td>\n",
       "      <td></td>\n",
       "      <td>0</td>\n",
       "      <td>0.0</td>\n",
       "      <td>0.0</td>\n",
       "      <td>0.0</td>\n",
       "      <td>0.0</td>\n",
       "      <td>...</td>\n",
       "      <td>0</td>\n",
       "      <td>0</td>\n",
       "      <td>0</td>\n",
       "      <td>0</td>\n",
       "      <td>0</td>\n",
       "      <td>0</td>\n",
       "      <td>0</td>\n",
       "      <td>5657</td>\n",
       "      <td>6987</td>\n",
       "      <td>0.0</td>\n",
       "    </tr>\n",
       "    <tr>\n",
       "      <th>3</th>\n",
       "      <td>F 2012</td>\n",
       "      <td>101QC000</td>\n",
       "      <td>085954</td>\n",
       "      <td>309.2</td>\n",
       "      <td></td>\n",
       "      <td>0</td>\n",
       "      <td>0.0</td>\n",
       "      <td>0.0</td>\n",
       "      <td>0.0</td>\n",
       "      <td>0.0</td>\n",
       "      <td>...</td>\n",
       "      <td>0</td>\n",
       "      <td>0</td>\n",
       "      <td>0</td>\n",
       "      <td>0</td>\n",
       "      <td>0</td>\n",
       "      <td>0</td>\n",
       "      <td>0</td>\n",
       "      <td>5658</td>\n",
       "      <td>6996</td>\n",
       "      <td>0.0</td>\n",
       "    </tr>\n",
       "  </tbody>\n",
       "</table>\n",
       "<p>4 rows × 29 columns</p>\n",
       "</div>"
      ],
      "text/plain": [
       "     name    symbol    time  price type  qty  bid1  bid2  bid3  bid4  ...  \\\n",
       "0  F 2012  101QC000  085951  309.2         0   0.0   0.0   0.0   0.0  ...   \n",
       "1  F 2012  101QC000  085952  309.2         0   0.0   0.0   0.0   0.0  ...   \n",
       "2  F 2012  101QC000  085953  309.2         0   0.0   0.0   0.0   0.0  ...   \n",
       "3  F 2012  101QC000  085954  309.2         0   0.0   0.0   0.0   0.0  ...   \n",
       "\n",
       "   bid4qty  bid5qty  ask1qty  ask2qty  ask3qty  ask4qty  ask5qty  \\\n",
       "0        0        0        0        0        0        0        0   \n",
       "1        0        0        0        0        0        0        0   \n",
       "2        0        0        0        0        0        0        0   \n",
       "3        0        0        0        0        0        0        0   \n",
       "\n",
       "   total_bid_qty  totla_ask_qty  vwap  \n",
       "0           5651           6954   0.0  \n",
       "1           5654           6972   0.0  \n",
       "2           5657           6987   0.0  \n",
       "3           5658           6996   0.0  \n",
       "\n",
       "[4 rows x 29 columns]"
      ]
     },
     "execution_count": 108,
     "metadata": {},
     "output_type": "execute_result"
    }
   ],
   "source": [
    "df.head(4)"
   ]
  },
  {
   "cell_type": "markdown",
   "metadata": {},
   "source": [
    "# 옵션"
   ]
  },
  {
   "cell_type": "code",
   "execution_count": 4,
   "metadata": {},
   "outputs": [],
   "source": [
    "df=pd.read_csv('2020-10-30_calloptions.csv', engine='python')"
   ]
  },
  {
   "cell_type": "code",
   "execution_count": 5,
   "metadata": {},
   "outputs": [
    {
     "data": {
      "text/html": [
       "<div>\n",
       "<style scoped>\n",
       "    .dataframe tbody tr th:only-of-type {\n",
       "        vertical-align: middle;\n",
       "    }\n",
       "\n",
       "    .dataframe tbody tr th {\n",
       "        vertical-align: top;\n",
       "    }\n",
       "\n",
       "    .dataframe thead th {\n",
       "        text-align: right;\n",
       "    }\n",
       "</style>\n",
       "<table border=\"1\" class=\"dataframe\">\n",
       "  <thead>\n",
       "    <tr style=\"text-align: right;\">\n",
       "      <th></th>\n",
       "      <th>종목명</th>\n",
       "      <th>종목코드</th>\n",
       "      <th>시간</th>\n",
       "      <th>현재가</th>\n",
       "      <th>체결구분</th>\n",
       "      <th>체결수량</th>\n",
       "      <th>미결제약정</th>\n",
       "      <th>이론가</th>\n",
       "      <th>행사가격</th>\n",
       "      <th>델타</th>\n",
       "      <th>감마</th>\n",
       "      <th>베가</th>\n",
       "      <th>세타</th>\n",
       "      <th>로</th>\n",
       "      <th>내재변동성</th>\n",
       "      <th>역사적변동성</th>\n",
       "      <th>CD금리</th>\n",
       "    </tr>\n",
       "  </thead>\n",
       "  <tbody>\n",
       "    <tr>\n",
       "      <th>0</th>\n",
       "      <td>C 2011 322.5</td>\n",
       "      <td>201QB322</td>\n",
       "      <td>153156</td>\n",
       "      <td>1.36</td>\n",
       "      <td>+</td>\n",
       "      <td>2</td>\n",
       "      <td>13589</td>\n",
       "      <td>1.26</td>\n",
       "      <td>322.5</td>\n",
       "      <td>0.2015</td>\n",
       "      <td>0.0232</td>\n",
       "      <td>0.1911</td>\n",
       "      <td>-0.1022</td>\n",
       "      <td>0.0286</td>\n",
       "      <td>18.18</td>\n",
       "      <td>17.55</td>\n",
       "      <td>0.63</td>\n",
       "    </tr>\n",
       "    <tr>\n",
       "      <th>1</th>\n",
       "      <td>C 2011 342.5</td>\n",
       "      <td>201QB342</td>\n",
       "      <td>153004</td>\n",
       "      <td>0.03</td>\n",
       "      <td>-</td>\n",
       "      <td>1</td>\n",
       "      <td>16119</td>\n",
       "      <td>0.02</td>\n",
       "      <td>342.5</td>\n",
       "      <td>0.0076</td>\n",
       "      <td>0.0017</td>\n",
       "      <td>0.0201</td>\n",
       "      <td>-0.0075</td>\n",
       "      <td>0.0011</td>\n",
       "      <td>17.77</td>\n",
       "      <td>17.55</td>\n",
       "      <td>0.63</td>\n",
       "    </tr>\n",
       "    <tr>\n",
       "      <th>2</th>\n",
       "      <td>C 2011 315.0</td>\n",
       "      <td>201QB315</td>\n",
       "      <td>153124</td>\n",
       "      <td>3.79</td>\n",
       "      <td>-</td>\n",
       "      <td>1</td>\n",
       "      <td>8948</td>\n",
       "      <td>3.37</td>\n",
       "      <td>315.0</td>\n",
       "      <td>0.4142</td>\n",
       "      <td>0.0302</td>\n",
       "      <td>0.2607</td>\n",
       "      <td>-0.1519</td>\n",
       "      <td>0.0584</td>\n",
       "      <td>19.27</td>\n",
       "      <td>17.55</td>\n",
       "      <td>0.63</td>\n",
       "    </tr>\n",
       "    <tr>\n",
       "      <th>3</th>\n",
       "      <td>C 2011 320.0</td>\n",
       "      <td>201QB320</td>\n",
       "      <td>153156</td>\n",
       "      <td>1.98</td>\n",
       "      <td>+</td>\n",
       "      <td>2</td>\n",
       "      <td>11976</td>\n",
       "      <td>1.77</td>\n",
       "      <td>320.0</td>\n",
       "      <td>0.2661</td>\n",
       "      <td>0.0266</td>\n",
       "      <td>0.2332</td>\n",
       "      <td>-0.1224</td>\n",
       "      <td>0.0377</td>\n",
       "      <td>18.50</td>\n",
       "      <td>17.55</td>\n",
       "      <td>0.63</td>\n",
       "    </tr>\n",
       "    <tr>\n",
       "      <th>4</th>\n",
       "      <td>C 2011 317.5</td>\n",
       "      <td>201QB317</td>\n",
       "      <td>153156</td>\n",
       "      <td>2.79</td>\n",
       "      <td>+</td>\n",
       "      <td>1</td>\n",
       "      <td>7719</td>\n",
       "      <td>2.47</td>\n",
       "      <td>317.5</td>\n",
       "      <td>0.3382</td>\n",
       "      <td>0.0290</td>\n",
       "      <td>0.2319</td>\n",
       "      <td>-0.1411</td>\n",
       "      <td>0.0478</td>\n",
       "      <td>18.88</td>\n",
       "      <td>17.55</td>\n",
       "      <td>0.63</td>\n",
       "    </tr>\n",
       "  </tbody>\n",
       "</table>\n",
       "</div>"
      ],
      "text/plain": [
       "            종목명      종목코드      시간   현재가 체결구분  체결수량  미결제약정   이론가   행사가격  \\\n",
       "0  C 2011 322.5  201QB322  153156  1.36    +     2  13589  1.26  322.5   \n",
       "1  C 2011 342.5  201QB342  153004  0.03    -     1  16119  0.02  342.5   \n",
       "2  C 2011 315.0  201QB315  153124  3.79    -     1   8948  3.37  315.0   \n",
       "3  C 2011 320.0  201QB320  153156  1.98    +     2  11976  1.77  320.0   \n",
       "4  C 2011 317.5  201QB317  153156  2.79    +     1   7719  2.47  317.5   \n",
       "\n",
       "       델타      감마      베가      세타       로  내재변동성  역사적변동성  CD금리  \n",
       "0  0.2015  0.0232  0.1911 -0.1022  0.0286  18.18   17.55  0.63  \n",
       "1  0.0076  0.0017  0.0201 -0.0075  0.0011  17.77   17.55  0.63  \n",
       "2  0.4142  0.0302  0.2607 -0.1519  0.0584  19.27   17.55  0.63  \n",
       "3  0.2661  0.0266  0.2332 -0.1224  0.0377  18.50   17.55  0.63  \n",
       "4  0.3382  0.0290  0.2319 -0.1411  0.0478  18.88   17.55  0.63  "
      ]
     },
     "execution_count": 5,
     "metadata": {},
     "output_type": "execute_result"
    }
   ],
   "source": [
    "df.head()"
   ]
  },
  {
   "cell_type": "code",
   "execution_count": 7,
   "metadata": {},
   "outputs": [],
   "source": [
    "df=pd.read_csv('2020-10-30_putoptions.csv', engine='python')"
   ]
  },
  {
   "cell_type": "code",
   "execution_count": 8,
   "metadata": {},
   "outputs": [
    {
     "data": {
      "text/html": [
       "<div>\n",
       "<style scoped>\n",
       "    .dataframe tbody tr th:only-of-type {\n",
       "        vertical-align: middle;\n",
       "    }\n",
       "\n",
       "    .dataframe tbody tr th {\n",
       "        vertical-align: top;\n",
       "    }\n",
       "\n",
       "    .dataframe thead th {\n",
       "        text-align: right;\n",
       "    }\n",
       "</style>\n",
       "<table border=\"1\" class=\"dataframe\">\n",
       "  <thead>\n",
       "    <tr style=\"text-align: right;\">\n",
       "      <th></th>\n",
       "      <th>종목명</th>\n",
       "      <th>종목코드</th>\n",
       "      <th>시간</th>\n",
       "      <th>현재가</th>\n",
       "      <th>체결구분</th>\n",
       "      <th>체결수량</th>\n",
       "      <th>미결제약정</th>\n",
       "      <th>이론가</th>\n",
       "      <th>행사가격</th>\n",
       "      <th>델타</th>\n",
       "      <th>감마</th>\n",
       "      <th>베가</th>\n",
       "      <th>세타</th>\n",
       "      <th>로</th>\n",
       "      <th>내재변동성</th>\n",
       "      <th>역사적변동성</th>\n",
       "      <th>CD금리</th>\n",
       "    </tr>\n",
       "  </thead>\n",
       "  <tbody>\n",
       "    <tr>\n",
       "      <th>0</th>\n",
       "      <td>P 2011 300.0</td>\n",
       "      <td>301QB300</td>\n",
       "      <td>153156</td>\n",
       "      <td>2.13</td>\n",
       "      <td>+</td>\n",
       "      <td>2</td>\n",
       "      <td>16085</td>\n",
       "      <td>0.91</td>\n",
       "      <td>300.0</td>\n",
       "      <td>-0.2208</td>\n",
       "      <td>0.0183</td>\n",
       "      <td>0.1823</td>\n",
       "      <td>-0.1439</td>\n",
       "      <td>-0.0331</td>\n",
       "      <td>24.28</td>\n",
       "      <td>17.55</td>\n",
       "      <td>0.63</td>\n",
       "    </tr>\n",
       "    <tr>\n",
       "      <th>1</th>\n",
       "      <td>P 2011 277.5</td>\n",
       "      <td>301QB277</td>\n",
       "      <td>153156</td>\n",
       "      <td>0.33</td>\n",
       "      <td>-</td>\n",
       "      <td>1</td>\n",
       "      <td>10263</td>\n",
       "      <td>0.00</td>\n",
       "      <td>277.5</td>\n",
       "      <td>-0.0384</td>\n",
       "      <td>0.0040</td>\n",
       "      <td>0.0572</td>\n",
       "      <td>-0.0515</td>\n",
       "      <td>-0.0057</td>\n",
       "      <td>31.34</td>\n",
       "      <td>17.55</td>\n",
       "      <td>0.63</td>\n",
       "    </tr>\n",
       "    <tr>\n",
       "      <th>2</th>\n",
       "      <td>P 2011 287.5</td>\n",
       "      <td>301QB287</td>\n",
       "      <td>153152</td>\n",
       "      <td>0.75</td>\n",
       "      <td>-</td>\n",
       "      <td>3</td>\n",
       "      <td>13839</td>\n",
       "      <td>0.06</td>\n",
       "      <td>287.5</td>\n",
       "      <td>-0.0837</td>\n",
       "      <td>0.0082</td>\n",
       "      <td>0.0921</td>\n",
       "      <td>-0.0857</td>\n",
       "      <td>-0.0125</td>\n",
       "      <td>28.16</td>\n",
       "      <td>17.55</td>\n",
       "      <td>0.63</td>\n",
       "    </tr>\n",
       "    <tr>\n",
       "      <th>3</th>\n",
       "      <td>P 2011 255.0</td>\n",
       "      <td>301QB255</td>\n",
       "      <td>151339</td>\n",
       "      <td>0.05</td>\n",
       "      <td>-</td>\n",
       "      <td>5</td>\n",
       "      <td>20473</td>\n",
       "      <td>0.00</td>\n",
       "      <td>255.0</td>\n",
       "      <td>-0.0059</td>\n",
       "      <td>0.0007</td>\n",
       "      <td>0.0169</td>\n",
       "      <td>-0.0127</td>\n",
       "      <td>-0.0009</td>\n",
       "      <td>37.74</td>\n",
       "      <td>17.55</td>\n",
       "      <td>0.63</td>\n",
       "    </tr>\n",
       "    <tr>\n",
       "      <th>4</th>\n",
       "      <td>P 2011 302.5</td>\n",
       "      <td>301QB302</td>\n",
       "      <td>153152</td>\n",
       "      <td>2.62</td>\n",
       "      <td>+</td>\n",
       "      <td>1</td>\n",
       "      <td>11150</td>\n",
       "      <td>1.39</td>\n",
       "      <td>302.5</td>\n",
       "      <td>-0.2642</td>\n",
       "      <td>0.0209</td>\n",
       "      <td>0.2248</td>\n",
       "      <td>-0.1507</td>\n",
       "      <td>-0.0396</td>\n",
       "      <td>23.53</td>\n",
       "      <td>17.55</td>\n",
       "      <td>0.63</td>\n",
       "    </tr>\n",
       "  </tbody>\n",
       "</table>\n",
       "</div>"
      ],
      "text/plain": [
       "            종목명      종목코드      시간   현재가 체결구분  체결수량  미결제약정   이론가   행사가격  \\\n",
       "0  P 2011 300.0  301QB300  153156  2.13    +     2  16085  0.91  300.0   \n",
       "1  P 2011 277.5  301QB277  153156  0.33    -     1  10263  0.00  277.5   \n",
       "2  P 2011 287.5  301QB287  153152  0.75    -     3  13839  0.06  287.5   \n",
       "3  P 2011 255.0  301QB255  151339  0.05    -     5  20473  0.00  255.0   \n",
       "4  P 2011 302.5  301QB302  153152  2.62    +     1  11150  1.39  302.5   \n",
       "\n",
       "       델타      감마      베가      세타       로  내재변동성  역사적변동성  CD금리  \n",
       "0 -0.2208  0.0183  0.1823 -0.1439 -0.0331  24.28   17.55  0.63  \n",
       "1 -0.0384  0.0040  0.0572 -0.0515 -0.0057  31.34   17.55  0.63  \n",
       "2 -0.0837  0.0082  0.0921 -0.0857 -0.0125  28.16   17.55  0.63  \n",
       "3 -0.0059  0.0007  0.0169 -0.0127 -0.0009  37.74   17.55  0.63  \n",
       "4 -0.2642  0.0209  0.2248 -0.1507 -0.0396  23.53   17.55  0.63  "
      ]
     },
     "execution_count": 8,
     "metadata": {},
     "output_type": "execute_result"
    }
   ],
   "source": [
    "df.head()"
   ]
  }
 ],
 "metadata": {
  "kernelspec": {
   "display_name": "Python 3",
   "language": "python",
   "name": "python3"
  },
  "language_info": {
   "codemirror_mode": {
    "name": "ipython",
    "version": 3
   },
   "file_extension": ".py",
   "mimetype": "text/x-python",
   "name": "python",
   "nbconvert_exporter": "python",
   "pygments_lexer": "ipython3",
   "version": "3.6.10"
  }
 },
 "nbformat": 4,
 "nbformat_minor": 4
}
